{
 "cells": [
  {
   "cell_type": "code",
   "execution_count": 2,
   "id": "96737a79",
   "metadata": {},
   "outputs": [
    {
     "data": {
      "text/html": [
       "<pre style=\"white-space:pre;overflow-x:auto;line-height:normal;font-family:Menlo,'DejaVu Sans Mono',consolas,'Courier New',monospace\">Manim Community <span style=\"color: #008000; text-decoration-color: #008000\">v0.8.0</span>\n",
       "\n",
       "</pre>\n"
      ],
      "text/plain": [
       "Manim Community \u001b[32mv0.\u001b[0m\u001b[32m8.0\u001b[0m\n",
       "\n"
      ]
     },
     "metadata": {},
     "output_type": "display_data"
    }
   ],
   "source": [
    "from manim import *\n",
    "import numpy as np"
   ]
  },
  {
   "cell_type": "code",
   "execution_count": 5,
   "id": "6b7b7615",
   "metadata": {},
   "outputs": [
    {
     "data": {
      "text/plain": [
       "array([[1.  , 0.  , 0.  ],\n",
       "       [0.  , 1.3 , 0.  ],\n",
       "       [0.  , 0.  , 1.22]])"
      ]
     },
     "execution_count": 5,
     "metadata": {},
     "output_type": "execute_result"
    }
   ],
   "source": [
    "#MATRIX MULTIPLY         \n",
    "x = np.array([[1, 0, 0], [0, 1, 0], [0, 0, 1]])\n",
    "y = np.array([[1, 0.55, 0], [0, 1.3, 2], [0.55, 0, 1.22]])\n",
    "np.multiply(x, y)"
   ]
  },
  {
   "cell_type": "code",
   "execution_count": 44,
   "id": "dd70b13e",
   "metadata": {},
   "outputs": [
    {
     "name": "stderr",
     "output_type": "stream",
     "text": [
      "                                                                                \r"
     ]
    },
    {
     "data": {
      "text/html": [
       "<video src=\"media/jupyter/ThreeDCameraIllusionRotation@2021-07-05@20-47-33.mp4\" controls autoplay loop style=\"max-width: 25vw;\"  >\n",
       "      Your browser does not support the <code>video</code> element.\n",
       "    </video>"
      ],
      "text/plain": [
       "<IPython.core.display.Video object>"
      ]
     },
     "metadata": {},
     "output_type": "display_data"
    }
   ],
   "source": [
    "%%manim -qm -v WARNING ThreeDCameraIllusionRotation \n",
    "\n",
    "class ThreeDCameraIllusionRotation(ThreeDScene):\n",
    "    def construct(self):\n",
    "        axes = ThreeDAxes()\n",
    "        self.set_camera_orientation(phi=75 * DEGREES, theta=30 * DEGREES)\n",
    "\n",
    "        #arrays to multiply\n",
    "        \n",
    "        #Vector x \n",
    "        x = np.array([[1, 0, 0], [0, 1, 0], [0, 0, 1]])\n",
    "        \n",
    "        x2 = np.array([-44, 5, 10])\n",
    "        \n",
    "        \n",
    "        #Vector Transform T\n",
    "        T = np.array([[1, 0.55, -1.2], [0, 1.3, 1.2], [0.55, 0, 1.22]])\n",
    "        \n",
    "        self.add(axes)\n",
    "        \n",
    "        for i in x:\n",
    "            \n",
    "            ##draw vector\n",
    "            a = Line([0,0,0],i,color=RED)\n",
    "            #add first vector and basis\n",
    "            self.add(a)\n",
    "                \n",
    "#         self.begin_ambient_camera_rotation(rate=0.2)\n",
    "        \n",
    "        \n",
    "\n",
    "\n",
    "# #         self.wait(0.5)\n",
    "        \n",
    "        ##draw Vector Representation of T\n",
    "        for i in T:\n",
    "            \n",
    "            ##draw vector\n",
    "            a = Line([0,0,0],i,color=BLUE)\n",
    "            #add first vector and basis\n",
    "            self.add(a)\n",
    "                \n",
    "# # #         self.wait(0.5)\n",
    "        \n",
    "        #Calculate Transforms\n",
    "        T_a = np.matmul(T, x)\n",
    "        \n",
    "        #Calculate Transforms\n",
    "        x2_ = np.matmul(T, x2)\n",
    "        \n",
    "        \n",
    "# #         for i in T_a:\n",
    "# #             ##draw output Vector\n",
    "# #             t_a = Line([0,0,0],i,color=GREEN)\n",
    "# #             self.add(t_a)\n",
    "# #         self.wait(2)\n",
    "\n",
    "\n",
    "        #Animate Transformation\n",
    "        self.play(Transform(Line([0,0,0],x[0],color=RED),Line([0,0,0],T_a[0],color=GREEN)),\n",
    "                  \n",
    "                  Transform(Line([0,0,0],x[1],color=RED),Line([0,0,0],T_a[1],color=GREEN)),\n",
    "                  Transform(Line([0,0,0],x[2],color=RED),Line([0,0,0],T_a[2],color=GREEN)),\n",
    "                  Transform(Line([0,0,0],x2,color=RED),Line([0,0,0],x2_,color=YELLOW)),\n",
    "                  \n",
    "                  run_time=1)\n",
    "        \n",
    "\n",
    "        self.wait(0.2)\n",
    "#         self.begin_ambient_camera_rotation()"
   ]
  },
  {
   "cell_type": "code",
   "execution_count": null,
   "id": "82b94d7b",
   "metadata": {},
   "outputs": [],
   "source": []
  }
 ],
 "metadata": {
  "kernelspec": {
   "display_name": "Python 3 (ipykernel)",
   "language": "python",
   "name": "python3"
  },
  "language_info": {
   "codemirror_mode": {
    "name": "ipython",
    "version": 3
   },
   "file_extension": ".py",
   "mimetype": "text/x-python",
   "name": "python",
   "nbconvert_exporter": "python",
   "pygments_lexer": "ipython3",
   "version": "3.8.10"
  }
 },
 "nbformat": 4,
 "nbformat_minor": 5
}
