{
 "cells": [
  {
   "cell_type": "code",
   "execution_count": 3,
   "id": "96737a79",
   "metadata": {},
   "outputs": [],
   "source": [
    "from manim import *\n",
    "import numpy as np"
   ]
  },
  {
   "cell_type": "code",
   "execution_count": 13,
   "id": "035d716a",
   "metadata": {},
   "outputs": [
    {
     "name": "stdout",
     "output_type": "stream",
     "text": [
      "The equation is 1x + 1y + 1z = 0\n"
     ]
    }
   ],
   "source": [
    "#estimate plane equation from matrix\n",
    "\n",
    "import numpy as np\n",
    "\n",
    "p1 = np.array([1, -1, 0])\n",
    "p2 = np.array([0, -1, 1])\n",
    "p3 = np.array([-1,0 , 1])\n",
    "\n",
    "# These two vectors are in the plane\n",
    "v1 = p3 - p1\n",
    "v2 = p2 - p1\n",
    "\n",
    "# the cross product is a vector normal to the plane\n",
    "cp = np.cross(v1, v2)\n",
    "a, b, c = cp\n",
    "\n",
    "# This evaluates a * x3 + b * y3 + c * z3 which equals d\n",
    "d = np.dot(cp, p3)\n",
    "\n",
    "print('The equation is {0}x + {1}y + {2}z = {3}'.format(a, b, c, d))\n",
    "\n",
    "#z = f(x,y)\n",
    "def Surfacefunc(x, y):\n",
    "    z= x*x*y \n",
    "    return np.array([x, y, z])"
   ]
  },
  {
   "cell_type": "code",
   "execution_count": 14,
   "id": "ecb82572",
   "metadata": {},
   "outputs": [
    {
     "data": {
      "text/plain": [
       "array([ 3.2  ,  4.2  , 43.008])"
      ]
     },
     "execution_count": 14,
     "metadata": {},
     "output_type": "execute_result"
    }
   ],
   "source": [
    "v = Surfacefunc(3.2,4.2)\n",
    "v"
   ]
  },
  {
   "cell_type": "code",
   "execution_count": 16,
   "id": "4efb2752",
   "metadata": {},
   "outputs": [
    {
     "name": "stderr",
     "output_type": "stream",
     "text": [
      "                                                                                             \r"
     ]
    },
    {
     "data": {
      "text/html": [
       "<video src=\"media/jupyter/ThreeDCameraIllusionRotation@2021-07-22@12-12-33.mp4\" controls autoplay loop style=\"max-width: 25vw;\"  >\n",
       "      Your browser does not support the <code>video</code> element.\n",
       "    </video>"
      ],
      "text/plain": [
       "<IPython.core.display.Video object>"
      ]
     },
     "metadata": {},
     "output_type": "display_data"
    }
   ],
   "source": [
    "%%manim -qm -v WARNING ThreeDCameraIllusionRotation \n",
    "\n",
    "class ThreeDCameraIllusionRotation(ThreeDScene):\n",
    "    def construct(self):\n",
    "        axes = ThreeDAxes(z_normal=[0,0,1])\n",
    "        self.set_camera_orientation(phi=66 * DEGREES, theta=5 * DEGREES,distance=500000)\n",
    "        self.begin_ambient_camera_rotation(rate=0.2)\n",
    "        self.add(axes)\n",
    "            \n",
    "        #visulaise target as sphere\n",
    "        sphere1 = Sphere(\n",
    "            center=(3, 4, 5),\n",
    "            radius=0.2,\n",
    "            resolution=(20, 20),\n",
    "        )\n",
    "        sphere1.set_color(RED)\n",
    "        self.add(sphere1)\n",
    "        \n",
    "        \n",
    "        surface = ParametricSurface(\n",
    "            lambda u, v: axes.c2p(*Surfacefunc(u, v)),\n",
    "            u_min=-5,\n",
    "            u_max=5,\n",
    "            v_min=-5,\n",
    "            v_max=5,\n",
    "        )\n",
    "        self.add(surface)\n",
    "        v = Surfacefunc(30,40)\n",
    "        #draw random vector on surface\n",
    "        self.add(Line([0,0,0],v,color=RED))\n",
    "        \n",
    "        #draw perpendicular from target to line project on line \n",
    "        \n",
    "        # finding norm of the vector v\n",
    "        v_norm = np.sqrt(sum(v**2))    \n",
    "\n",
    "        # Apply the formula as mentioned above\n",
    "        # for projecting a vector onto another vector\n",
    "        # find dot product using np.dot()\n",
    "#         proj_of_u_on_v = (np.dot(target, v)/v_norm**2)*v\n",
    "        \n",
    "#         self.add(Line(target,proj_of_u_on_v,color=BLUE))\n",
    "#         print(proj_of_u_on_v)\n",
    "        \n",
    "#         self.add(Line(target,np.array([-1, 0.5, 1.5]),color=YELLOW))\n",
    "#         #Draw orthagonal Vector to v\n",
    "\n",
    "        self.wait(10)\n",
    "#         self.begin_ambient_camera_rotation()"
   ]
  },
  {
   "cell_type": "code",
   "execution_count": 141,
   "id": "616b7806",
   "metadata": {},
   "outputs": [
    {
     "data": {
      "text/plain": [
       "1.057152860382729"
      ]
     },
     "execution_count": 141,
     "metadata": {},
     "output_type": "execute_result"
    }
   ],
   "source": [
    "\n",
    "\n",
    "\n",
    "angle(np.array([3, 4, 5]),np.array([-1, 0.5, 1.5]))"
   ]
  },
  {
   "cell_type": "code",
   "execution_count": 128,
   "id": "b025cb1f",
   "metadata": {},
   "outputs": [],
   "source": [
    "import math\n",
    "\n",
    "def dotproduct(v1, v2):\n",
    "  return sum((a*b) for a, b in zip(v1, v2))\n",
    "\n",
    "def length(v):\n",
    "  return dotproduct(v, v)\n",
    "\n",
    "def angle(v1, v2):\n",
    "  return math.acos(dotproduct(v1, v2) / math.sqrt(length(v1) * length(v2)))"
   ]
  },
  {
   "cell_type": "code",
   "execution_count": 131,
   "id": "c57bfda3",
   "metadata": {},
   "outputs": [
    {
     "data": {
      "text/plain": [
       "1.5707963267948966"
      ]
     },
     "execution_count": 131,
     "metadata": {},
     "output_type": "execute_result"
    }
   ],
   "source": [
    "math.acos(0)"
   ]
  },
  {
   "cell_type": "code",
   "execution_count": 144,
   "id": "78d49569",
   "metadata": {},
   "outputs": [
    {
     "data": {
      "text/plain": [
       "5.049752469181039"
      ]
     },
     "execution_count": 144,
     "metadata": {},
     "output_type": "execute_result"
    }
   ],
   "source": [
    "a  = np.array([3, 4, 5])\n",
    "b  = np.array([3.5, 3.5, 0])\n",
    "\n",
    "\n",
    "dist = np.linalg.norm(a-b)\n",
    "dist"
   ]
  },
  {
   "cell_type": "code",
   "execution_count": null,
   "id": "37d4a741",
   "metadata": {},
   "outputs": [],
   "source": [
    "a  = np.array([3, 4, 5])\n",
    "b  = np.array([-0.5, 3.5, 0])\n",
    "\n",
    "\n",
    "dist = np.linalg.norm(a-b)\n",
    "dist"
   ]
  }
 ],
 "metadata": {
  "kernelspec": {
   "display_name": "Python 3 (ipykernel)",
   "language": "python",
   "name": "python3"
  },
  "language_info": {
   "codemirror_mode": {
    "name": "ipython",
    "version": 3
   },
   "file_extension": ".py",
   "mimetype": "text/x-python",
   "name": "python",
   "nbconvert_exporter": "python",
   "pygments_lexer": "ipython3",
   "version": "3.8.10"
  }
 },
 "nbformat": 4,
 "nbformat_minor": 5
}
