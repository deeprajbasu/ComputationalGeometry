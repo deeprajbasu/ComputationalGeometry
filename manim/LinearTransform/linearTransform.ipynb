{
 "cells": [
  {
   "cell_type": "code",
   "execution_count": 70,
   "id": "96737a79",
   "metadata": {},
   "outputs": [],
   "source": [
    "from manim import *\n",
    "import numpy as np"
   ]
  },
  {
   "cell_type": "code",
   "execution_count": 95,
   "id": "6b7b7615",
   "metadata": {},
   "outputs": [
    {
     "data": {
      "text/plain": [
       "array([[ 1,  4,  9],\n",
       "       [ 4, 10, 18]])"
      ]
     },
     "execution_count": 95,
     "metadata": {},
     "output_type": "execute_result"
    }
   ],
   "source": [
    "#MATRIX MULTIPLY         \n",
    "x = np.array([[1, 2, 3], [4, 5, 6]])\n",
    "y = np.array([1,2,3])\n",
    "np.multiply(x, y)"
   ]
  },
  {
   "cell_type": "code",
   "execution_count": 134,
   "id": "dd70b13e",
   "metadata": {},
   "outputs": [
    {
     "name": "stderr",
     "output_type": "stream",
     "text": [
      "                                                                                \r"
     ]
    },
    {
     "data": {
      "text/html": [
       "<video src=\"media/jupyter/ThreeDCameraIllusionRotation@2021-07-05@01-42-46.mp4\" controls autoplay loop style=\"max-width: 25vw;\"  >\n",
       "      Your browser does not support the <code>video</code> element.\n",
       "    </video>"
      ],
      "text/plain": [
       "<IPython.core.display.Video object>"
      ]
     },
     "metadata": {},
     "output_type": "display_data"
    }
   ],
   "source": [
    "%%manim -qm -v WARNING ThreeDCameraIllusionRotation\n",
    "\n",
    "class ThreeDCameraIllusionRotation(ThreeDScene):\n",
    "    def construct(self):\n",
    "        axes = ThreeDAxes()\n",
    "        self.set_camera_orientation(phi=75 * DEGREES, theta=30 * DEGREES)\n",
    "\n",
    "        #arrays to multiply\n",
    "        \n",
    "        #Vector x \n",
    "        x = np.array([[1,1,2],[-2,2,-2]])\n",
    "        \n",
    "        #Vector Transform T\n",
    "        T = np.array([-2,1.5,-1.1])\n",
    "        self.add(axes)\n",
    "        for i in x:\n",
    "            \n",
    "            ##draw vector\n",
    "            a = Line([0,0,0],i,color=RED)\n",
    "            #add first vector and basis\n",
    "            self.add(a)\n",
    "                \n",
    "        self.begin_ambient_camera_rotation(rate=0.2)\n",
    "        \n",
    "        \n",
    "\n",
    "\n",
    "        self.wait(0.5)\n",
    "        \n",
    "        ##draw Vector Representation of T\n",
    "        t = Line([0,0,0],T,color=BLUE)\n",
    "        self.add(t)\n",
    "        self.wait(0.5)\n",
    "        \n",
    "        #Calculate Transforms\n",
    "        T_a = np.multiply(x, T)\n",
    "        \n",
    "        for i in T_a:\n",
    "            ##draw output Vector\n",
    "            t_a = Line([0,0,0],i,color=GREEN)\n",
    "            self.add(t_a)\n",
    "        self.wait(2)\n",
    "#         for irange:\n",
    "#             #Animate Transformation\n",
    "#             self.play(Transform(i, n))\n",
    "\n",
    "\n",
    "# #         self.wait(0.2)\n",
    "# # #         self.begin_ambient_camera_rotation()"
   ]
  },
  {
   "cell_type": "code",
   "execution_count": null,
   "id": "82b94d7b",
   "metadata": {},
   "outputs": [],
   "source": []
  }
 ],
 "metadata": {
  "kernelspec": {
   "display_name": "Python 3 (ipykernel)",
   "language": "python",
   "name": "python3"
  },
  "language_info": {
   "codemirror_mode": {
    "name": "ipython",
    "version": 3
   },
   "file_extension": ".py",
   "mimetype": "text/x-python",
   "name": "python",
   "nbconvert_exporter": "python",
   "pygments_lexer": "ipython3",
   "version": "3.8.10"
  }
 },
 "nbformat": 4,
 "nbformat_minor": 5
}
